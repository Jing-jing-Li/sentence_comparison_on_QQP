{
  "cells": [
    {
      "cell_type": "code",
      "execution_count": 111,
      "metadata": {
        "colab": {
          "base_uri": "https://localhost:8080/"
        },
        "id": "FKiJVn_Hcb43",
        "outputId": "4369fda5-3f68-4aa4-e16e-1491953c98ba"
      },
      "outputs": [
        {
          "output_type": "stream",
          "name": "stdout",
          "text": [
            "Looking in indexes: https://pypi.org/simple, https://us-python.pkg.dev/colab-wheels/public/simple/\n",
            "Requirement already satisfied: sentence_transformers in /usr/local/lib/python3.7/dist-packages (2.2.2)\n",
            "Requirement already satisfied: torch>=1.6.0 in /usr/local/lib/python3.7/dist-packages (from sentence_transformers) (1.12.1+cu113)\n",
            "Requirement already satisfied: transformers<5.0.0,>=4.6.0 in /usr/local/lib/python3.7/dist-packages (from sentence_transformers) (4.23.1)\n",
            "Requirement already satisfied: tqdm in /usr/local/lib/python3.7/dist-packages (from sentence_transformers) (4.64.1)\n",
            "Requirement already satisfied: scipy in /usr/local/lib/python3.7/dist-packages (from sentence_transformers) (1.7.3)\n",
            "Requirement already satisfied: huggingface-hub>=0.4.0 in /usr/local/lib/python3.7/dist-packages (from sentence_transformers) (0.10.1)\n",
            "Requirement already satisfied: sentencepiece in /usr/local/lib/python3.7/dist-packages (from sentence_transformers) (0.1.97)\n",
            "Requirement already satisfied: scikit-learn in /usr/local/lib/python3.7/dist-packages (from sentence_transformers) (1.0.2)\n",
            "Requirement already satisfied: torchvision in /usr/local/lib/python3.7/dist-packages (from sentence_transformers) (0.13.1+cu113)\n",
            "Requirement already satisfied: numpy in /usr/local/lib/python3.7/dist-packages (from sentence_transformers) (1.21.6)\n",
            "Requirement already satisfied: nltk in /usr/local/lib/python3.7/dist-packages (from sentence_transformers) (3.7)\n",
            "Requirement already satisfied: filelock in /usr/local/lib/python3.7/dist-packages (from huggingface-hub>=0.4.0->sentence_transformers) (3.8.0)\n",
            "Requirement already satisfied: typing-extensions>=3.7.4.3 in /usr/local/lib/python3.7/dist-packages (from huggingface-hub>=0.4.0->sentence_transformers) (4.1.1)\n",
            "Requirement already satisfied: packaging>=20.9 in /usr/local/lib/python3.7/dist-packages (from huggingface-hub>=0.4.0->sentence_transformers) (21.3)\n",
            "Requirement already satisfied: requests in /usr/local/lib/python3.7/dist-packages (from huggingface-hub>=0.4.0->sentence_transformers) (2.23.0)\n",
            "Requirement already satisfied: pyyaml>=5.1 in /usr/local/lib/python3.7/dist-packages (from huggingface-hub>=0.4.0->sentence_transformers) (6.0)\n",
            "Requirement already satisfied: importlib-metadata in /usr/local/lib/python3.7/dist-packages (from huggingface-hub>=0.4.0->sentence_transformers) (5.0.0)\n",
            "Requirement already satisfied: pyparsing!=3.0.5,>=2.0.2 in /usr/local/lib/python3.7/dist-packages (from packaging>=20.9->huggingface-hub>=0.4.0->sentence_transformers) (3.0.9)\n",
            "Requirement already satisfied: regex!=2019.12.17 in /usr/local/lib/python3.7/dist-packages (from transformers<5.0.0,>=4.6.0->sentence_transformers) (2022.6.2)\n",
            "Requirement already satisfied: tokenizers!=0.11.3,<0.14,>=0.11.1 in /usr/local/lib/python3.7/dist-packages (from transformers<5.0.0,>=4.6.0->sentence_transformers) (0.13.1)\n",
            "Requirement already satisfied: zipp>=0.5 in /usr/local/lib/python3.7/dist-packages (from importlib-metadata->huggingface-hub>=0.4.0->sentence_transformers) (3.8.1)\n",
            "Requirement already satisfied: click in /usr/local/lib/python3.7/dist-packages (from nltk->sentence_transformers) (7.1.2)\n",
            "Requirement already satisfied: joblib in /usr/local/lib/python3.7/dist-packages (from nltk->sentence_transformers) (1.2.0)\n",
            "Requirement already satisfied: urllib3!=1.25.0,!=1.25.1,<1.26,>=1.21.1 in /usr/local/lib/python3.7/dist-packages (from requests->huggingface-hub>=0.4.0->sentence_transformers) (1.24.3)\n",
            "Requirement already satisfied: chardet<4,>=3.0.2 in /usr/local/lib/python3.7/dist-packages (from requests->huggingface-hub>=0.4.0->sentence_transformers) (3.0.4)\n",
            "Requirement already satisfied: idna<3,>=2.5 in /usr/local/lib/python3.7/dist-packages (from requests->huggingface-hub>=0.4.0->sentence_transformers) (2.10)\n",
            "Requirement already satisfied: certifi>=2017.4.17 in /usr/local/lib/python3.7/dist-packages (from requests->huggingface-hub>=0.4.0->sentence_transformers) (2022.9.24)\n",
            "Requirement already satisfied: threadpoolctl>=2.0.0 in /usr/local/lib/python3.7/dist-packages (from scikit-learn->sentence_transformers) (3.1.0)\n",
            "Requirement already satisfied: pillow!=8.3.*,>=5.3.0 in /usr/local/lib/python3.7/dist-packages (from torchvision->sentence_transformers) (7.1.2)\n"
          ]
        }
      ],
      "source": [
        "!pip install sentence_transformers"
      ]
    },
    {
      "cell_type": "code",
      "execution_count": 74,
      "metadata": {
        "id": "SAHNPm3ucOCJ"
      },
      "outputs": [],
      "source": [
        "import pandas as pd\n",
        "import numpy as np\n",
        "from sentence_transformers import InputExample, SentenceTransformer, models, losses, evaluation, util\n",
        "from sentence_transformers.evaluation import EmbeddingSimilarityEvaluator\n",
        "from torch.utils.data import DataLoader\n",
        "from scipy import spatial\n",
        "from datetime import datetime\n",
        "from sklearn.feature_extraction.text import CountVectorizer\n",
        "from sklearn.metrics.pairwise import euclidean_distances\n",
        "from sklearn.model_selection import train_test_split\n",
        "from sklearn.naive_bayes import MultinomialNB\n",
        "from data_processing import get_data"
      ]
    },
    {
      "cell_type": "code",
      "execution_count": 75,
      "metadata": {
        "id": "nlCWYcQBchLH"
      },
      "outputs": [],
      "source": [
        "x_train, x_test1, x_test2, x_test3, x_test4, x_test5, y_train, y_test1, y_test2, y_test3, y_test4, y_test5 = get_data()\n",
        "def convert_list_data_into_InputExample(x, y):\n",
        "    examples = []\n",
        "    for s, label in zip(x, y):\n",
        "        question1, question2 = s\n",
        "        examples.append(InputExample(texts=[question1, question2], label=float(label)))\n",
        "    return examples\n",
        "\n",
        "train = convert_list_data_into_InputExample(x_train, y_train)\n",
        "test1 = convert_list_data_into_InputExample(x_test1, y_test1)\n",
        "test2 = convert_list_data_into_InputExample(x_test2, y_test2)\n",
        "test3 = convert_list_data_into_InputExample(x_test3, y_test3)\n",
        "test4 = convert_list_data_into_InputExample(x_test4, y_test4)\n",
        "test5 = convert_list_data_into_InputExample(x_test5, y_test5)"
      ]
    },
    {
      "cell_type": "code",
      "execution_count": 76,
      "metadata": {
        "id": "-9tNN_secmqx"
      },
      "outputs": [],
      "source": [
        "vectorizer = CountVectorizer()\n",
        "sample = np.array(x_test2)\n",
        "sample = sample.tolist()"
      ]
    },
    {
      "cell_type": "code",
      "execution_count": 77,
      "metadata": {
        "id": "UHFRnoQ8eCPh"
      },
      "outputs": [],
      "source": [
        "def f(number):\n",
        "    return float(number)"
      ]
    },
    {
      "cell_type": "code",
      "source": [
        "def count_vector_similarity(sample):\n",
        "    n = len(sample)\n",
        "    simi = []\n",
        "    vector_list1=[]\n",
        "    vector_list2=[]\n",
        "    words_list=[]\n",
        "    for i in range(n):\n",
        "        fit = vectorizer.fit_transform(sample[i]).todense()\n",
        "        vector1 = fit[0].tolist()[0]\n",
        "        vector2 = fit[1].tolist()[0]\n",
        "        float_numbers_iterator1 = map(f, vector1)\n",
        "        float_numbers_iterator2 = map(f, vector2)\n",
        "        vector1 = list(float_numbers_iterator1)\n",
        "        vector2 = list(float_numbers_iterator2)\n",
        "        vector_list1.append(vector1)\n",
        "        vector_list2.append(vector2)\n",
        "        words = vectorizer.get_feature_names_out()\n",
        "        words_list.append(words)\n",
        "        similarity = util.cos_sim(vector1, vector2)\n",
        "        simi.append(similarity)\n",
        "    return simi, vector_list1, vector_list2, words_list"
      ],
      "metadata": {
        "id": "-8wDEf6-gF3N"
      },
      "execution_count": 78,
      "outputs": []
    },
    {
      "cell_type": "code",
      "source": [
        "def f1_score(simi, y):\n",
        "    TP = 0\n",
        "    FP = 0\n",
        "    FN = 0\n",
        "    prediction_label = [0]*len(simi)\n",
        "    for i in range(len(simi)):\n",
        "        if simi[i] > 0.5:\n",
        "            prediction_label[i]=1\n",
        "            if y[i]=='1':\n",
        "                TP+=1\n",
        "            elif y[i]=='0':\n",
        "                FP+=1\n",
        "        else:\n",
        "            if y[i]=='1':\n",
        "                FN+=1\n",
        "    R=TP/(TP+FN)\n",
        "    P=TP/(TP+FP)\n",
        "    f1_score1=2*P*R/(P+R)\n",
        "    return f1_score1"
      ],
      "metadata": {
        "id": "oaetD2EGgsps"
      },
      "execution_count": 79,
      "outputs": []
    },
    {
      "cell_type": "code",
      "source": [
        "simi_list, vector1, vector2, word_list = count_vector_similarity(sample)\n",
        "f = f1_score(simi_list, y_test2)\n",
        "print(f)"
      ],
      "metadata": {
        "colab": {
          "base_uri": "https://localhost:8080/"
        },
        "id": "MJvLrTN3hspN",
        "outputId": "4395d58d-c135-4148-d2a3-ef712c687639"
      },
      "execution_count": 80,
      "outputs": [
        {
          "output_type": "stream",
          "name": "stdout",
          "text": [
            "0.6083810941570525\n"
          ]
        }
      ]
    }
  ],
  "metadata": {
    "colab": {
      "collapsed_sections": [],
      "provenance": []
    },
    "kernelspec": {
      "display_name": "Python 3 (ipykernel)",
      "language": "python",
      "name": "python3"
    },
    "language_info": {
      "codemirror_mode": {
        "name": "ipython",
        "version": 3
      },
      "file_extension": ".py",
      "mimetype": "text/x-python",
      "name": "python",
      "nbconvert_exporter": "python",
      "pygments_lexer": "ipython3",
      "version": "3.9.7"
    },
    "accelerator": "GPU"
  },
  "nbformat": 4,
  "nbformat_minor": 0
}