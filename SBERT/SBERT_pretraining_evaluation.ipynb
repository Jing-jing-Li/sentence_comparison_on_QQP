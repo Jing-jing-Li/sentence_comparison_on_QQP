{
 "cells": [
  {
   "cell_type": "code",
   "execution_count": 1,
   "id": "ec852554",
   "metadata": {},
   "outputs": [],
   "source": [
    "from sentence_transformers import InputExample, SentenceTransformer, models, losses, evaluation, util\n",
    "from data_processing import get_data\n",
    "from sklearn.metrics import classification_report"
   ]
  },
  {
   "cell_type": "code",
   "execution_count": 2,
   "id": "73c512b7",
   "metadata": {},
   "outputs": [],
   "source": [
    "x_train, x_test1, x_test2, x_test3, x_test4, x_test5, y_train, y_test1, y_test2, y_test3, y_test4, y_test5 = get_data()"
   ]
  },
  {
   "cell_type": "code",
   "execution_count": 8,
   "id": "bbe2488e",
   "metadata": {},
   "outputs": [],
   "source": [
    "def convert_list_data_into_InputExample(x, y):\n",
    "    examples = []\n",
    "    for s, label in zip(x, y):\n",
    "        question1, question2 = s\n",
    "        examples.append(InputExample(texts=[question1, question2], label=float(label)))\n",
    "    return examples"
   ]
  },
  {
   "cell_type": "code",
   "execution_count": 9,
   "id": "245b268f",
   "metadata": {},
   "outputs": [],
   "source": [
    "test1 = convert_list_data_into_InputExample(x_test1, y_test1)"
   ]
  },
  {
   "cell_type": "code",
   "execution_count": 10,
   "id": "66a9ccb3",
   "metadata": {},
   "outputs": [],
   "source": [
    "model = SentenceTransformer('all-MiniLM-L6-v2')"
   ]
  },
  {
   "cell_type": "code",
   "execution_count": null,
   "id": "2a883f24",
   "metadata": {},
   "outputs": [],
   "source": [
    "pre_label=[0]*len(x_test1)\n",
    "TP=0\n",
    "FP=0\n",
    "FN=0\n",
    "for i in range(len(test1)):\n",
    "    embeddings = model.encode(test1[i].texts)\n",
    "    cos_sim = util.cos_sim(embeddings[0], embeddings[1])\n",
    "    if cos_sim>0.5:\n",
    "        pre_label[i]=1\n",
    "        if y_test1[i]=='1':\n",
    "            TP+=1\n",
    "        elif y_test1[i]=='0':\n",
    "            FP+=1\n",
    "    else:\n",
    "        if y_test1[i]=='1':\n",
    "            FN+=1"
   ]
  },
  {
   "cell_type": "code",
   "execution_count": null,
   "id": "3352487f",
   "metadata": {},
   "outputs": [],
   "source": [
    "pre = []\n",
    "for i in range(len(pre_label)):\n",
    "    a = str(pre_label[i])\n",
    "    pre.append(a)"
   ]
  },
  {
   "cell_type": "code",
   "execution_count": null,
   "id": "c17f55b2",
   "metadata": {},
   "outputs": [],
   "source": [
    "R=TP/(TP+FN)\n",
    "P=TP/(TP+FP)\n",
    "f_1=2*P*R/(P+R)\n",
    "print('the f1 score of test1 is',f_1)"
   ]
  },
  {
   "cell_type": "code",
   "execution_count": null,
   "id": "529117ba",
   "metadata": {},
   "outputs": [],
   "source": [
    "print(classification_report(y_test1, pre))"
   ]
  }
 ],
 "metadata": {
  "kernelspec": {
   "display_name": "Python 3 (ipykernel)",
   "language": "python",
   "name": "python3"
  },
  "language_info": {
   "codemirror_mode": {
    "name": "ipython",
    "version": 3
   },
   "file_extension": ".py",
   "mimetype": "text/x-python",
   "name": "python",
   "nbconvert_exporter": "python",
   "pygments_lexer": "ipython3",
   "version": "3.9.7"
  }
 },
 "nbformat": 4,
 "nbformat_minor": 5
}
