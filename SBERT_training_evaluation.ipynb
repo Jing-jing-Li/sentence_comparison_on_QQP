{
 "cells": [
  {
   "cell_type": "markdown",
   "id": "e1295028",
   "metadata": {},
   "source": [
    "### SBERT model evalutation part"
   ]
  },
  {
   "cell_type": "code",
   "execution_count": 1,
   "id": "5c3878c9",
   "metadata": {},
   "outputs": [],
   "source": [
    "import pandas as pd\n",
    "import numpy as np\n",
    "from sentence_transformers import InputExample, SentenceTransformer, models, losses, evaluation, util\n",
    "from sentence_transformers.evaluation import EmbeddingSimilarityEvaluator\n",
    "from torch.utils.data import DataLoader\n",
    "from sklearn.model_selection import train_test_split\n",
    "import matplotlib.pyplot as plt\n",
    "from data_processing import get_data\n",
    "from sklearn.metrics import classification_report"
   ]
  },
  {
   "cell_type": "markdown",
   "id": "bf8e5097",
   "metadata": {},
   "source": [
    "### load data"
   ]
  },
  {
   "cell_type": "code",
   "execution_count": 2,
   "id": "69eae9ee",
   "metadata": {},
   "outputs": [],
   "source": [
    "x_train, x_test1, x_test2, x_test3, x_test4, x_test5, y_train, y_test1, y_test2, y_test3, y_test4, y_test5 = get_data()"
   ]
  },
  {
   "cell_type": "markdown",
   "id": "6c2d2816",
   "metadata": {},
   "source": [
    "### evaluate test data using f1 score"
   ]
  },
  {
   "cell_type": "code",
   "execution_count": 3,
   "id": "c34f47de",
   "metadata": {},
   "outputs": [],
   "source": [
    "model_path = 'C:/Users/lenovo/Desktop/一起走下去吧/uzh · 学习/2022 Fall/NLP'\n",
    "model = SentenceTransformer(model_path)"
   ]
  },
  {
   "cell_type": "code",
   "execution_count": 4,
   "id": "a61c2fc5",
   "metadata": {},
   "outputs": [],
   "source": [
    "def f1_score(n, embedding1, embedding2, y):\n",
    "    prediction_labels = [0] * n\n",
    "    TP=0\n",
    "    FN=0\n",
    "    FP=0\n",
    "    for i in range(n):\n",
    "        similarity = util.cos_sim(embedding1[i], embedding2[i])\n",
    "        if similarity > 0.5:\n",
    "            prediction_labels[i] = 1\n",
    "            if y[i]=='1':\n",
    "                TP+=1\n",
    "            elif y[i]=='0':\n",
    "                FP+=1\n",
    "        else:\n",
    "            if y[i]=='1':\n",
    "                FN+=1\n",
    "    R=TP/(TP+FN)\n",
    "    P=TP/(TP+FP)\n",
    "    f1=2*P*R/(P+R)\n",
    "    return f1, prediction_labels"
   ]
  },
  {
   "cell_type": "code",
   "execution_count": 5,
   "id": "51501d8d",
   "metadata": {},
   "outputs": [],
   "source": [
    "test1_question1 = np.array(x_test1)[:, 0]\n",
    "test1_question2 = np.array(x_test1)[:, 1]\n",
    "embedding1 = model.encode(test1_question1, convert_to_tensor=True)\n",
    "embedding2 = model.encode(test1_question2, convert_to_tensor=True)\n",
    "n = len(x_test1)\n",
    "f_1, prediction_1 = f1_score(n, embedding1, embedding2, y_test1)"
   ]
  },
  {
   "cell_type": "code",
   "execution_count": 6,
   "id": "d769e03a",
   "metadata": {},
   "outputs": [
    {
     "name": "stdout",
     "output_type": "stream",
     "text": [
      "the f1 score of test1 is 0.724449289947445\n"
     ]
    }
   ],
   "source": [
    "print('the f1 score of test1 is',f_1)"
   ]
  },
  {
   "cell_type": "code",
   "execution_count": 17,
   "id": "2201c71a",
   "metadata": {},
   "outputs": [],
   "source": [
    "pre = []\n",
    "for i in range(len(prediction_1)):\n",
    "    a = str(prediction_1[i])\n",
    "    pre.append(a)"
   ]
  },
  {
   "cell_type": "code",
   "execution_count": 19,
   "id": "dbdd36ba",
   "metadata": {},
   "outputs": [
    {
     "name": "stdout",
     "output_type": "stream",
     "text": [
      "              precision    recall  f1-score   support\n",
      "\n",
      "           0       0.93      0.64      0.76     48479\n",
      "           1       0.60      0.91      0.72     28336\n",
      "\n",
      "    accuracy                           0.74     76815\n",
      "   macro avg       0.76      0.78      0.74     76815\n",
      "weighted avg       0.81      0.74      0.75     76815\n",
      "\n"
     ]
    }
   ],
   "source": [
    "print(classification_report(y_test1, pre))"
   ]
  }
 ],
 "metadata": {
  "kernelspec": {
   "display_name": "Python 3 (ipykernel)",
   "language": "python",
   "name": "python3"
  },
  "language_info": {
   "codemirror_mode": {
    "name": "ipython",
    "version": 3
   },
   "file_extension": ".py",
   "mimetype": "text/x-python",
   "name": "python",
   "nbconvert_exporter": "python",
   "pygments_lexer": "ipython3",
   "version": "3.9.7"
  }
 },
 "nbformat": 4,
 "nbformat_minor": 5
}
